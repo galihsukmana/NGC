{
  "nbformat": 4,
  "nbformat_minor": 0,
  "metadata": {
    "colab": {
      "provenance": []
    },
    "kernelspec": {
      "name": "python3",
      "display_name": "Python 3"
    },
    "language_info": {
      "name": "python"
    }
  },
  "cells": [
    {
      "cell_type": "code",
      "execution_count": 3,
      "metadata": {
        "id": "PMbewdoBY9pT"
      },
      "outputs": [],
      "source": [
        "import numpy as np\n",
        "import sympy as sy"
      ]
    },
    {
      "cell_type": "code",
      "source": [
        "x = sy.Symbol('x')\n",
        "y = sy.Symbol('y')\n"
      ],
      "metadata": {
        "id": "z-HToZD8ZaYo"
      },
      "execution_count": 4,
      "outputs": []
    },
    {
      "cell_type": "code",
      "source": [
        "f = 3*x + 4*y - 5\n",
        "f\n"
      ],
      "metadata": {
        "colab": {
          "base_uri": "https://localhost:8080/",
          "height": 38
        },
        "id": "W7C1E_f9Zku_",
        "outputId": "8b7b105d-9dbb-4a71-93e2-c4a05f6b6ff0"
      },
      "execution_count": 5,
      "outputs": [
        {
          "output_type": "execute_result",
          "data": {
            "text/plain": [
              "3*x + 4*y - 5"
            ],
            "text/latex": "$\\displaystyle 3 x + 4 y - 5$"
          },
          "metadata": {},
          "execution_count": 5
        }
      ]
    },
    {
      "cell_type": "code",
      "source": [
        "#Turunan parsial terhadap x\n",
        "dx = sy.diff(f,x)\n",
        "\n",
        "#turunan terhadap y\n",
        "dy = sy.diff(f,y)\n",
        "\n"
      ],
      "metadata": {
        "id": "bHIqqOAhZ3-R"
      },
      "execution_count": 6,
      "outputs": []
    },
    {
      "cell_type": "code",
      "source": [
        "dx"
      ],
      "metadata": {
        "colab": {
          "base_uri": "https://localhost:8080/",
          "height": 37
        },
        "id": "N9h-K9HQb68d",
        "outputId": "247bf142-4180-46a8-e079-9ca23d0c5712"
      },
      "execution_count": 7,
      "outputs": [
        {
          "output_type": "execute_result",
          "data": {
            "text/plain": [
              "3"
            ],
            "text/latex": "$\\displaystyle 3$"
          },
          "metadata": {},
          "execution_count": 7
        }
      ]
    },
    {
      "cell_type": "code",
      "source": [
        "dy"
      ],
      "metadata": {
        "colab": {
          "base_uri": "https://localhost:8080/",
          "height": 37
        },
        "id": "VfrkzRqVb71w",
        "outputId": "64d124b7-4c05-492a-861d-7dcfac70f830"
      },
      "execution_count": 8,
      "outputs": [
        {
          "output_type": "execute_result",
          "data": {
            "text/plain": [
              "4"
            ],
            "text/latex": "$\\displaystyle 4$"
          },
          "metadata": {},
          "execution_count": 8
        }
      ]
    },
    {
      "cell_type": "code",
      "source": [
        "#mencari gradient\n",
        "f \n"
      ],
      "metadata": {
        "colab": {
          "base_uri": "https://localhost:8080/",
          "height": 38
        },
        "id": "Mj6IMB17b8eu",
        "outputId": "972d082b-05be-4ff5-a23f-481b25eee239"
      },
      "execution_count": 9,
      "outputs": [
        {
          "output_type": "execute_result",
          "data": {
            "text/plain": [
              "3*x + 4*y - 5"
            ],
            "text/latex": "$\\displaystyle 3 x + 4 y - 5$"
          },
          "metadata": {},
          "execution_count": 9
        }
      ]
    },
    {
      "cell_type": "code",
      "source": [
        "from sympy.tensor.array import derive_by_array\n",
        "grad = derive_by_array(f, (x,y))\n",
        "grad"
      ],
      "metadata": {
        "colab": {
          "base_uri": "https://localhost:8080/",
          "height": 38
        },
        "id": "bwUgiroaHy5S",
        "outputId": "ffdd1e85-eecf-44ec-93ac-0e4e8c69ce79"
      },
      "execution_count": 10,
      "outputs": [
        {
          "output_type": "execute_result",
          "data": {
            "text/plain": [
              "[3, 4]"
            ],
            "text/latex": "$\\displaystyle \\left[\\begin{matrix}3 & 4\\end{matrix}\\right]$"
          },
          "metadata": {},
          "execution_count": 10
        }
      ]
    },
    {
      "cell_type": "code",
      "source": [],
      "metadata": {
        "id": "1uqdgj0dMj4O"
      },
      "execution_count": null,
      "outputs": []
    }
  ]
}